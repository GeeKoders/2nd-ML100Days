{
 "cells": [
  {
   "cell_type": "markdown",
   "metadata": {},
   "source": [
    "# 作業目標:\n",
    "    了解 Convolution 卷積的組成"
   ]
  },
  {
   "cell_type": "markdown",
   "metadata": {},
   "source": [
    "# 作業重點:\n",
    "    修改 a_slice_prev, 檢查 Z 的輸出"
   ]
  },
  {
   "cell_type": "code",
   "execution_count": 1,
   "metadata": {},
   "outputs": [],
   "source": [
    "import numpy as np"
   ]
  },
  {
   "cell_type": "code",
   "execution_count": 2,
   "metadata": {},
   "outputs": [],
   "source": [
    "# GRADED FUNCTION: conv_single_step\n",
    "def conv_single_step(a_slice_prev, W, b):\n",
    "    \"\"\"\n",
    "    定義一層 Kernel (內核), 使用的參數說明如下\n",
    "    Arguments:\n",
    "        a_slice_prev -- 輸入資料的維度\n",
    "        W -- 權重, 被使用在 a_slice_prev\n",
    "        b -- 偏差參數 \n",
    "    Returns:\n",
    "        Z -- 滑動窗口（W，b）卷積在前一個 feature map 上的結果\n",
    "    \"\"\"\n",
    "\n",
    "    # 定義一個元素介於 a_slice and W\n",
    "    s = a_slice_prev * W\n",
    "    # 加總所有的 \"s\" 並指定給Z.\n",
    "    Z = np.sum(s)\n",
    "    # Add bias b to Z. 這是 float() 函數,\n",
    "    Z = float(Z + b)\n",
    "\n",
    "    return Z"
   ]
  },
  {
   "cell_type": "code",
   "execution_count": 4,
   "metadata": {},
   "outputs": [
    {
     "name": "stdout",
     "output_type": "stream",
     "text": [
      "W [[[-2.02220122 -0.30620401  0.82797464]\n",
      "  [ 0.23009474  0.76201118 -0.22232814]\n",
      "  [-0.20075807  0.18656139  0.41005165]\n",
      "  [ 0.19829972  0.11900865 -0.67066229]\n",
      "  [ 0.37756379  0.12182127  1.12948391]]\n",
      "\n",
      " [[ 1.19891788  0.18515642 -0.37528495]\n",
      "  [-0.63873041  0.42349435  0.07734007]\n",
      "  [-0.34385368  0.04359686 -0.62000084]\n",
      "  [ 0.69803203 -0.44712856  1.2245077 ]\n",
      "  [ 0.40349164  0.59357852 -1.09491185]]\n",
      "\n",
      " [[ 0.16938243  0.74055645 -0.9537006 ]\n",
      "  [-0.26621851  0.03261455 -1.37311732]\n",
      "  [ 0.31515939  0.84616065 -0.85951594]\n",
      "  [ 0.35054598 -1.31228341 -0.03869551]\n",
      "  [-1.61577235  1.12141771  0.40890054]]\n",
      "\n",
      " [[-0.02461696 -0.77516162  1.27375593]\n",
      "  [ 1.96710175 -1.85798186  1.23616403]\n",
      "  [ 1.62765075  0.3380117  -1.19926803]\n",
      "  [ 0.86334532 -0.1809203  -0.60392063]\n",
      "  [-1.23005814  0.5505375   0.79280687]]\n",
      "\n",
      " [[-0.62353073  0.52057634 -1.14434139]\n",
      "  [ 0.80186103  0.0465673  -0.18656977]\n",
      "  [-0.10174587  0.86888616  0.75041164]\n",
      "  [ 0.52946532  0.13770121  0.07782113]\n",
      "  [ 0.61838026  0.23249456  0.68255141]]]\n",
      "Z = 3.1104032107031885\n"
     ]
    }
   ],
   "source": [
    "\n",
    "\n",
    "np.random.seed(1)\n",
    "#定義一個 axaxd 的 feature map\n",
    "a_slice_prev = np.random.randn(5, 5, 3)\n",
    "W = np.random.randn(5, 5, 3)\n",
    "b = np.random.randn(1, 1, 1)\n",
    "\n",
    "print('W', W)\n",
    "#取得計算後,卷積矩陣的值\n",
    "Z = conv_single_step(a_slice_prev, W, b)\n",
    "print(\"Z =\", Z)\n"
   ]
  },
  {
   "cell_type": "code",
   "execution_count": null,
   "metadata": {},
   "outputs": [],
   "source": []
  }
 ],
 "metadata": {
  "kernelspec": {
   "display_name": "Python 3",
   "language": "python",
   "name": "python3"
  },
  "language_info": {
   "codemirror_mode": {
    "name": "ipython",
    "version": 3
   },
   "file_extension": ".py",
   "mimetype": "text/x-python",
   "name": "python",
   "nbconvert_exporter": "python",
   "pygments_lexer": "ipython3",
   "version": "3.7.3"
  },
  "toc": {
   "base_numbering": 1,
   "nav_menu": {},
   "number_sections": true,
   "sideBar": true,
   "skip_h1_title": false,
   "title_cell": "Table of Contents",
   "title_sidebar": "Contents",
   "toc_cell": false,
   "toc_position": {},
   "toc_section_display": true,
   "toc_window_display": false
  }
 },
 "nbformat": 4,
 "nbformat_minor": 2
}
