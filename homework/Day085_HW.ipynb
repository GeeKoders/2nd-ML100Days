{
 "cells": [
  {
   "cell_type": "markdown",
   "metadata": {},
   "source": [
    "## Work\n",
    "1. 試改變 monitor \"Validation Accuracy\" 並比較結果\n",
    "2. 調整 earlystop 的等待次數至 10, 25 並比較結果"
   ]
  },
  {
   "cell_type": "code",
   "execution_count": 1,
   "metadata": {},
   "outputs": [],
   "source": [
    "import os\n",
    "import keras\n",
    "import matplotlib.pyplot as plt\n",
    "import warnings\n",
    "warnings.filterwarnings('ignore')\n",
    "%matplotlib inline\n",
    "\n",
    "\n",
    "# Disable GPU\n",
    "os.environ[\"CUDA_VISIBLE_DEVICES\"] = \"\""
   ]
  },
  {
   "cell_type": "code",
   "execution_count": 2,
   "metadata": {},
   "outputs": [],
   "source": [
    "train, test = keras.datasets.cifar10.load_data()"
   ]
  },
  {
   "cell_type": "code",
   "execution_count": 3,
   "metadata": {},
   "outputs": [],
   "source": [
    "## 資料前處理\n",
    "def preproc_x(x, flatten=True):\n",
    "    x = x / 255.\n",
    "    if flatten:\n",
    "        x = x.reshape((len(x), -1))\n",
    "    return x\n",
    "\n",
    "def preproc_y(y, num_classes=10):\n",
    "    if y.shape[-1] == 1:\n",
    "        y = keras.utils.to_categorical(y, num_classes)\n",
    "    return y    "
   ]
  },
  {
   "cell_type": "code",
   "execution_count": 4,
   "metadata": {},
   "outputs": [],
   "source": [
    "x_train, y_train = train\n",
    "x_test, y_test = test\n",
    "\n",
    "# Preproc the inputs\n",
    "x_train = preproc_x(x_train)\n",
    "x_test = preproc_x(x_test)\n",
    "\n",
    "# Preprc the outputs\n",
    "y_train = preproc_y(y_train)\n",
    "y_test = preproc_y(y_test)"
   ]
  },
  {
   "cell_type": "code",
   "execution_count": 5,
   "metadata": {},
   "outputs": [],
   "source": [
    "\n",
    "def build_mlp(input_shape, output_units=10, num_neurons=[512, 256, 128]):\n",
    "    input_layer = keras.layers.Input(input_shape)\n",
    "    \n",
    "    for i, n_units in enumerate(num_neurons):\n",
    "        if i == 0:\n",
    "            x = keras.layers.Dense(units=n_units, \n",
    "                                   activation=\"relu\", \n",
    "                                   name=\"hidden_layer\"+str(i+1))(input_layer)\n",
    "            x = BatchNormalization()(x)\n",
    "        else:\n",
    "            x = keras.layers.Dense(units=n_units, \n",
    "                                   activation=\"relu\", \n",
    "                                   name=\"hidden_layer\"+str(i+1))(x)\n",
    "            x = BatchNormalization()(x)\n",
    "    \n",
    "    out = keras.layers.Dense(units=output_units, activation=\"softmax\", name=\"output\")(x)\n",
    "    \n",
    "    model = keras.models.Model(inputs=[input_layer], outputs=[out])\n",
    "    return model"
   ]
  },
  {
   "cell_type": "code",
   "execution_count": 6,
   "metadata": {},
   "outputs": [],
   "source": [
    "\"\"\"Code Here\n",
    "設定超參數\n",
    "\"\"\"\n",
    "LEARNING_RATE = 1e-3\n",
    "EPOCHS = 50\n",
    "BATCH_SIZE = 1024\n",
    "MOMENTUM = 0.95"
   ]
  },
  {
   "cell_type": "code",
   "execution_count": 7,
   "metadata": {},
   "outputs": [],
   "source": [
    "# 載入 Callbacks\n",
    "\"\"\"Code Here\n",
    "設定 callbacks: Earlystop\n",
    "\"\"\"\n",
    "from keras.callbacks import EarlyStopping\n",
    "\n",
    "earlystop = EarlyStopping(monitor='val_acc',\n",
    "                          patience=5,\n",
    "                          verbose=1)"
   ]
  },
  {
   "cell_type": "code",
   "execution_count": 9,
   "metadata": {},
   "outputs": [
    {
     "name": "stdout",
     "output_type": "stream",
     "text": [
      "WARNING:tensorflow:From D:\\Anaconda3\\lib\\site-packages\\keras\\backend\\tensorflow_backend.py:148: The name tf.placeholder_with_default is deprecated. Please use tf.compat.v1.placeholder_with_default instead.\n",
      "\n",
      "Model: \"model_1\"\n",
      "_________________________________________________________________\n",
      "Layer (type)                 Output Shape              Param #   \n",
      "=================================================================\n",
      "input_2 (InputLayer)         (None, 3072)              0         \n",
      "_________________________________________________________________\n",
      "hidden_layer1 (Dense)        (None, 512)               1573376   \n",
      "_________________________________________________________________\n",
      "batch_normalization_1 (Batch (None, 512)               2048      \n",
      "_________________________________________________________________\n",
      "hidden_layer2 (Dense)        (None, 256)               131328    \n",
      "_________________________________________________________________\n",
      "batch_normalization_2 (Batch (None, 256)               1024      \n",
      "_________________________________________________________________\n",
      "hidden_layer3 (Dense)        (None, 128)               32896     \n",
      "_________________________________________________________________\n",
      "batch_normalization_3 (Batch (None, 128)               512       \n",
      "_________________________________________________________________\n",
      "output (Dense)               (None, 10)                1290      \n",
      "=================================================================\n",
      "Total params: 1,742,474\n",
      "Trainable params: 1,740,682\n",
      "Non-trainable params: 1,792\n",
      "_________________________________________________________________\n",
      "WARNING:tensorflow:From D:\\Anaconda3\\lib\\site-packages\\keras\\optimizers.py:793: The name tf.train.Optimizer is deprecated. Please use tf.compat.v1.train.Optimizer instead.\n",
      "\n",
      "WARNING:tensorflow:From D:\\Anaconda3\\lib\\site-packages\\keras\\backend\\tensorflow_backend.py:3576: The name tf.log is deprecated. Please use tf.math.log instead.\n",
      "\n",
      "WARNING:tensorflow:From D:\\Anaconda3\\lib\\site-packages\\tensorflow\\python\\ops\\math_grad.py:1250: add_dispatch_support.<locals>.wrapper (from tensorflow.python.ops.array_ops) is deprecated and will be removed in a future version.\n",
      "Instructions for updating:\n",
      "Use tf.where in 2.0, which has the same broadcast rule as np.where\n",
      "Train on 50000 samples, validate on 10000 samples\n",
      "Epoch 1/50\n",
      "50000/50000 [==============================] - 21s 412us/step - loss: 2.2219 - acc: 0.2702 - val_loss: 2.0673 - val_acc: 0.3076\n",
      "Epoch 2/50\n",
      "50000/50000 [==============================] - 2s 48us/step - loss: 1.7501 - acc: 0.3924 - val_loss: 1.7947 - val_acc: 0.3798\n",
      "Epoch 3/50\n",
      "50000/50000 [==============================] - 2s 47us/step - loss: 1.6257 - acc: 0.4333 - val_loss: 1.6954 - val_acc: 0.4082\n",
      "Epoch 4/50\n",
      "50000/50000 [==============================] - 2s 47us/step - loss: 1.5507 - acc: 0.4584 - val_loss: 1.6227 - val_acc: 0.4328\n",
      "Epoch 5/50\n",
      "50000/50000 [==============================] - 2s 48us/step - loss: 1.4948 - acc: 0.4769 - val_loss: 1.5907 - val_acc: 0.4464\n",
      "Epoch 6/50\n",
      "50000/50000 [==============================] - 3s 50us/step - loss: 1.4493 - acc: 0.4946 - val_loss: 1.5625 - val_acc: 0.4568\n",
      "Epoch 7/50\n",
      "50000/50000 [==============================] - 3s 51us/step - loss: 1.4100 - acc: 0.5080 - val_loss: 1.5423 - val_acc: 0.4640\n",
      "Epoch 8/50\n",
      "50000/50000 [==============================] - 2s 48us/step - loss: 1.3741 - acc: 0.5199 - val_loss: 1.5204 - val_acc: 0.4689\n",
      "Epoch 9/50\n",
      "50000/50000 [==============================] - 2s 49us/step - loss: 1.3406 - acc: 0.5328 - val_loss: 1.5119 - val_acc: 0.4713\n",
      "Epoch 10/50\n",
      "50000/50000 [==============================] - 2s 47us/step - loss: 1.3112 - acc: 0.5447 - val_loss: 1.4982 - val_acc: 0.4745\n",
      "Epoch 11/50\n",
      "50000/50000 [==============================] - 2s 47us/step - loss: 1.2814 - acc: 0.5551 - val_loss: 1.4769 - val_acc: 0.4814\n",
      "Epoch 12/50\n",
      "50000/50000 [==============================] - 2s 48us/step - loss: 1.2549 - acc: 0.5647 - val_loss: 1.4756 - val_acc: 0.4814\n",
      "Epoch 13/50\n",
      "50000/50000 [==============================] - 2s 50us/step - loss: 1.2291 - acc: 0.5754 - val_loss: 1.4658 - val_acc: 0.4830\n",
      "Epoch 14/50\n",
      "50000/50000 [==============================] - 2s 50us/step - loss: 1.2046 - acc: 0.5839 - val_loss: 1.4658 - val_acc: 0.4827\n",
      "Epoch 15/50\n",
      "50000/50000 [==============================] - 3s 51us/step - loss: 1.1774 - acc: 0.5960 - val_loss: 1.4648 - val_acc: 0.4902\n",
      "Epoch 16/50\n",
      "50000/50000 [==============================] - 2s 49us/step - loss: 1.1535 - acc: 0.6038 - val_loss: 1.4546 - val_acc: 0.4867\n",
      "Epoch 17/50\n",
      "50000/50000 [==============================] - 2s 47us/step - loss: 1.1319 - acc: 0.6118 - val_loss: 1.4554 - val_acc: 0.4885\n",
      "Epoch 18/50\n",
      "50000/50000 [==============================] - 2s 47us/step - loss: 1.1079 - acc: 0.6221 - val_loss: 1.4613 - val_acc: 0.4861\n",
      "Epoch 19/50\n",
      "50000/50000 [==============================] - 2s 47us/step - loss: 1.0862 - acc: 0.6290 - val_loss: 1.4495 - val_acc: 0.4906\n",
      "Epoch 20/50\n",
      "50000/50000 [==============================] - 2s 48us/step - loss: 1.0649 - acc: 0.6390 - val_loss: 1.4580 - val_acc: 0.4929\n",
      "Epoch 21/50\n",
      "50000/50000 [==============================] - 2s 47us/step - loss: 1.0419 - acc: 0.6460 - val_loss: 1.4552 - val_acc: 0.4939\n",
      "Epoch 22/50\n",
      "50000/50000 [==============================] - 2s 47us/step - loss: 1.0215 - acc: 0.6546 - val_loss: 1.4517 - val_acc: 0.4960\n",
      "Epoch 23/50\n",
      "50000/50000 [==============================] - 2s 47us/step - loss: 1.0021 - acc: 0.6629 - val_loss: 1.4473 - val_acc: 0.4977\n",
      "Epoch 24/50\n",
      "50000/50000 [==============================] - 2s 48us/step - loss: 0.9799 - acc: 0.6715 - val_loss: 1.4608 - val_acc: 0.4975\n",
      "Epoch 25/50\n",
      "50000/50000 [==============================] - 2s 50us/step - loss: 0.9596 - acc: 0.6763 - val_loss: 1.4531 - val_acc: 0.5008\n",
      "Epoch 26/50\n",
      "50000/50000 [==============================] - 3s 51us/step - loss: 0.9392 - acc: 0.6854 - val_loss: 1.4676 - val_acc: 0.4915\n",
      "Epoch 27/50\n",
      "50000/50000 [==============================] - 2s 49us/step - loss: 0.9201 - acc: 0.6926 - val_loss: 1.4738 - val_acc: 0.4944\n",
      "Epoch 28/50\n",
      "50000/50000 [==============================] - 3s 50us/step - loss: 0.8975 - acc: 0.7016 - val_loss: 1.4680 - val_acc: 0.4985\n",
      "Epoch 29/50\n",
      "50000/50000 [==============================] - 3s 51us/step - loss: 0.8781 - acc: 0.7102 - val_loss: 1.4869 - val_acc: 0.4876\n",
      "Epoch 30/50\n",
      "50000/50000 [==============================] - 2s 48us/step - loss: 0.8609 - acc: 0.7155 - val_loss: 1.4903 - val_acc: 0.4904\n",
      "Epoch 00030: early stopping\n"
     ]
    }
   ],
   "source": [
    "from keras.layers import BatchNormalization\n",
    "\n",
    "model = build_mlp(input_shape=x_train.shape[1:])\n",
    "model.summary()\n",
    "optimizer = keras.optimizers.SGD(lr=LEARNING_RATE, nesterov=True, momentum=MOMENTUM)\n",
    "model.compile(loss=\"categorical_crossentropy\", metrics=[\"accuracy\"], optimizer=optimizer)\n",
    "\n",
    "model.fit(x_train, y_train, \n",
    "          epochs=EPOCHS, \n",
    "          batch_size=BATCH_SIZE, \n",
    "          validation_data=(x_test, y_test), \n",
    "          shuffle=True,\n",
    "          callbacks=[earlystop]\n",
    "         )\n",
    "\n",
    "train_loss = model.history.history[\"loss\"]\n",
    "valid_loss = model.history.history[\"val_loss\"]\n",
    "train_acc = model.history.history[\"acc\"]\n",
    "valid_acc = model.history.history[\"val_acc\"]\n"
   ]
  },
  {
   "cell_type": "code",
   "execution_count": 10,
   "metadata": {},
   "outputs": [
    {
     "data": {
      "image/png": "[encoded data removed]",
      "text/plain": [
       "<Figure size 432x288 with 1 Axes>"
      ]
     },
     "metadata": {
      "needs_background": "light"
     },
     "output_type": "display_data"
    },
    {
     "data": {
      "image/png": "[encoded data removed]",
      "text/plain": [
       "<Figure size 432x288 with 1 Axes>"
      ]
     },
     "metadata": {
      "needs_background": "light"
     },
     "output_type": "display_data"
    }
   ],
   "source": [
    "import matplotlib.pyplot as plt\n",
    "%matplotlib inline\n",
    "\"\"\"Code Here\n",
    "將結果繪出\n",
    "\"\"\"\n",
    "plt.plot(range(len(train_loss)), train_loss, label=\"train loss\")\n",
    "plt.plot(range(len(valid_loss)), valid_loss, label=\"valid loss\")\n",
    "plt.legend()\n",
    "plt.title(\"Loss\")\n",
    "plt.show()\n",
    "\n",
    "plt.plot(range(len(train_acc)), train_acc, label=\"train accuracy\")\n",
    "plt.plot(range(len(valid_acc)), valid_acc, label=\"valid accuracy\")\n",
    "plt.legend()\n",
    "plt.title(\"Accuracy\")\n",
    "plt.show()\n"
   ]
  },
  {
   "cell_type": "markdown",
   "metadata": {},
   "source": [
    "### 作業2"
   ]
  },
  {
   "cell_type": "code",
   "execution_count": 11,
   "metadata": {},
   "outputs": [],
   "source": [
    "earlystop = EarlyStopping(monitor='val_acc',\n",
    "                          patience=10,\n",
    "                          verbose=1)"
   ]
  },
  {
   "cell_type": "code",
   "execution_count": 12,
   "metadata": {},
   "outputs": [
    {
     "name": "stdout",
     "output_type": "stream",
     "text": [
      "Model: \"model_2\"\n",
      "_________________________________________________________________\n",
      "Layer (type)                 Output Shape              Param #   \n",
      "=================================================================\n",
      "input_3 (InputLayer)         (None, 3072)              0         \n",
      "_________________________________________________________________\n",
      "hidden_layer1 (Dense)        (None, 512)               1573376   \n",
      "_________________________________________________________________\n",
      "batch_normalization_4 (Batch (None, 512)               2048      \n",
      "_________________________________________________________________\n",
      "hidden_layer2 (Dense)        (None, 256)               131328    \n",
      "_________________________________________________________________\n",
      "batch_normalization_5 (Batch (None, 256)               1024      \n",
      "_________________________________________________________________\n",
      "hidden_layer3 (Dense)        (None, 128)               32896     \n",
      "_________________________________________________________________\n",
      "batch_normalization_6 (Batch (None, 128)               512       \n",
      "_________________________________________________________________\n",
      "output (Dense)               (None, 10)                1290      \n",
      "=================================================================\n",
      "Total params: 1,742,474\n",
      "Trainable params: 1,740,682\n",
      "Non-trainable params: 1,792\n",
      "_________________________________________________________________\n",
      "Train on 50000 samples, validate on 10000 samples\n",
      "Epoch 1/50\n",
      "50000/50000 [==============================] - 4s 78us/step - loss: 2.2162 - acc: 0.2701 - val_loss: 2.0957 - val_acc: 0.3202\n",
      "Epoch 2/50\n",
      "50000/50000 [==============================] - 3s 50us/step - loss: 1.7436 - acc: 0.3921 - val_loss: 1.8179 - val_acc: 0.3767\n",
      "Epoch 3/50\n",
      "50000/50000 [==============================] - 3s 50us/step - loss: 1.6196 - acc: 0.4334 - val_loss: 1.7036 - val_acc: 0.4123\n",
      "Epoch 4/50\n",
      "50000/50000 [==============================] - 2s 48us/step - loss: 1.5446 - acc: 0.4603 - val_loss: 1.6350 - val_acc: 0.4288\n",
      "Epoch 5/50\n",
      "50000/50000 [==============================] - 2s 47us/step - loss: 1.4902 - acc: 0.4797 - val_loss: 1.5947 - val_acc: 0.4400\n",
      "Epoch 6/50\n",
      "50000/50000 [==============================] - 2s 47us/step - loss: 1.4439 - acc: 0.4963 - val_loss: 1.5834 - val_acc: 0.4478\n",
      "Epoch 7/50\n",
      "50000/50000 [==============================] - 2s 47us/step - loss: 1.4061 - acc: 0.5097 - val_loss: 1.5548 - val_acc: 0.4554\n",
      "Epoch 8/50\n",
      "50000/50000 [==============================] - 2s 47us/step - loss: 1.3726 - acc: 0.5216 - val_loss: 1.5325 - val_acc: 0.4663\n",
      "Epoch 9/50\n",
      "50000/50000 [==============================] - 2s 48us/step - loss: 1.3394 - acc: 0.5324 - val_loss: 1.5113 - val_acc: 0.4744\n",
      "Epoch 10/50\n",
      "50000/50000 [==============================] - 2s 48us/step - loss: 1.3088 - acc: 0.5439 - val_loss: 1.5025 - val_acc: 0.4767\n",
      "Epoch 11/50\n",
      "50000/50000 [==============================] - 2s 49us/step - loss: 1.2813 - acc: 0.5548 - val_loss: 1.4958 - val_acc: 0.4788\n",
      "Epoch 12/50\n",
      "50000/50000 [==============================] - 2s 49us/step - loss: 1.2552 - acc: 0.5653 - val_loss: 1.4869 - val_acc: 0.4817\n",
      "Epoch 13/50\n",
      "50000/50000 [==============================] - 2s 48us/step - loss: 1.2301 - acc: 0.5742 - val_loss: 1.4740 - val_acc: 0.4877\n",
      "Epoch 14/50\n",
      "50000/50000 [==============================] - 2s 47us/step - loss: 1.2043 - acc: 0.5839 - val_loss: 1.4792 - val_acc: 0.4817\n",
      "Epoch 15/50\n",
      "50000/50000 [==============================] - 2s 49us/step - loss: 1.1803 - acc: 0.5918 - val_loss: 1.4746 - val_acc: 0.4864\n",
      "Epoch 16/50\n",
      "50000/50000 [==============================] - 4s 71us/step - loss: 1.1564 - acc: 0.6016 - val_loss: 1.4653 - val_acc: 0.4890\n",
      "Epoch 17/50\n",
      "50000/50000 [==============================] - 2s 50us/step - loss: 1.1337 - acc: 0.6099 - val_loss: 1.4694 - val_acc: 0.4879\n",
      "Epoch 18/50\n",
      "50000/50000 [==============================] - 2s 48us/step - loss: 1.1106 - acc: 0.6193 - val_loss: 1.4559 - val_acc: 0.4945\n",
      "Epoch 19/50\n",
      "50000/50000 [==============================] - 2s 49us/step - loss: 1.0879 - acc: 0.6264 - val_loss: 1.4682 - val_acc: 0.4856\n",
      "Epoch 20/50\n",
      "50000/50000 [==============================] - 3s 52us/step - loss: 1.0657 - acc: 0.6361 - val_loss: 1.4487 - val_acc: 0.4977\n",
      "Epoch 21/50\n",
      "50000/50000 [==============================] - 3s 52us/step - loss: 1.0425 - acc: 0.6452 - val_loss: 1.4724 - val_acc: 0.4910\n",
      "Epoch 22/50\n",
      "50000/50000 [==============================] - 3s 51us/step - loss: 1.0228 - acc: 0.6526 - val_loss: 1.4821 - val_acc: 0.4864\n",
      "Epoch 23/50\n",
      "50000/50000 [==============================] - 2s 49us/step - loss: 1.0027 - acc: 0.6610 - val_loss: 1.4646 - val_acc: 0.4905\n",
      "Epoch 24/50\n",
      "50000/50000 [==============================] - 3s 50us/step - loss: 0.9811 - acc: 0.6691 - val_loss: 1.4681 - val_acc: 0.4923\n",
      "Epoch 25/50\n",
      "50000/50000 [==============================] - 2s 50us/step - loss: 0.9602 - acc: 0.6764 - val_loss: 1.4718 - val_acc: 0.4917\n",
      "Epoch 26/50\n",
      "50000/50000 [==============================] - 2s 48us/step - loss: 0.9394 - acc: 0.6839 - val_loss: 1.4572 - val_acc: 0.5006\n",
      "Epoch 27/50\n",
      "50000/50000 [==============================] - 2s 49us/step - loss: 0.9183 - acc: 0.6935 - val_loss: 1.4716 - val_acc: 0.4992\n",
      "Epoch 28/50\n",
      "50000/50000 [==============================] - 2s 49us/step - loss: 0.8996 - acc: 0.6998 - val_loss: 1.4839 - val_acc: 0.4956\n",
      "Epoch 29/50\n",
      "50000/50000 [==============================] - 3s 51us/step - loss: 0.8792 - acc: 0.7082 - val_loss: 1.4854 - val_acc: 0.4960\n",
      "Epoch 30/50\n",
      "50000/50000 [==============================] - 2s 49us/step - loss: 0.8578 - acc: 0.7151 - val_loss: 1.4946 - val_acc: 0.4930\n",
      "Epoch 31/50\n",
      "50000/50000 [==============================] - 2s 49us/step - loss: 0.8388 - acc: 0.7244 - val_loss: 1.4959 - val_acc: 0.4885\n",
      "Epoch 32/50\n",
      "50000/50000 [==============================] - 2s 49us/step - loss: 0.8174 - acc: 0.7314 - val_loss: 1.4987 - val_acc: 0.4968\n",
      "Epoch 33/50\n",
      "50000/50000 [==============================] - 2s 48us/step - loss: 0.7993 - acc: 0.7385 - val_loss: 1.5071 - val_acc: 0.4959\n",
      "Epoch 34/50\n",
      "50000/50000 [==============================] - 2s 48us/step - loss: 0.7783 - acc: 0.7479 - val_loss: 1.5174 - val_acc: 0.4947\n",
      "Epoch 35/50\n",
      "50000/50000 [==============================] - 2s 48us/step - loss: 0.7603 - acc: 0.7537 - val_loss: 1.5336 - val_acc: 0.4957\n",
      "Epoch 36/50\n",
      "50000/50000 [==============================] - 2s 48us/step - loss: 0.7394 - acc: 0.7623 - val_loss: 1.5381 - val_acc: 0.4881\n",
      "Epoch 00036: early stopping\n"
     ]
    }
   ],
   "source": [
    "from keras.layers import BatchNormalization\n",
    "model = build_mlp(input_shape=x_train.shape[1:])\n",
    "model.summary()\n",
    "optimizer = keras.optimizers.SGD(lr=LEARNING_RATE, nesterov=True, momentum=MOMENTUM)\n",
    "model.compile(loss=\"categorical_crossentropy\", metrics=[\"accuracy\"], optimizer=optimizer)\n",
    "\n",
    "model.fit(x_train, y_train, \n",
    "          epochs=EPOCHS, \n",
    "          batch_size=BATCH_SIZE, \n",
    "          validation_data=(x_test, y_test), \n",
    "          shuffle=True,\n",
    "          callbacks=[earlystop]\n",
    "         )\n",
    "\n",
    "train_loss = model.history.history[\"loss\"]\n",
    "valid_loss = model.history.history[\"val_loss\"]\n",
    "train_acc = model.history.history[\"acc\"]\n",
    "valid_acc = model.history.history[\"val_acc\"]\n"
   ]
  },
  {
   "cell_type": "code",
   "execution_count": 13,
   "metadata": {},
   "outputs": [
    {
     "data": {
      "image/png": "[encoded data removed]",
      "text/plain": [
       "<Figure size 432x288 with 1 Axes>"
      ]
     },
     "metadata": {
      "needs_background": "light"
     },
     "output_type": "display_data"
    },
    {
     "data": {
      "image/png": "[encoded data removed]",
      "text/plain": [
       "<Figure size 432x288 with 1 Axes>"
      ]
     },
     "metadata": {
      "needs_background": "light"
     },
     "output_type": "display_data"
    }
   ],
   "source": [
    "import matplotlib.pyplot as plt\n",
    "%matplotlib inline\n",
    "\"\"\"Code Here\n",
    "將結果繪出\n",
    "\"\"\"\n",
    "plt.plot(range(len(train_loss)), train_loss, label=\"train loss\")\n",
    "plt.plot(range(len(valid_loss)), valid_loss, label=\"valid loss\")\n",
    "plt.legend()\n",
    "plt.title(\"Loss\")\n",
    "plt.show()\n",
    "\n",
    "plt.plot(range(len(train_acc)), train_acc, label=\"train accuracy\")\n",
    "plt.plot(range(len(valid_acc)), valid_acc, label=\"valid accuracy\")\n",
    "plt.legend()\n",
    "plt.title(\"Accuracy\")\n",
    "plt.show()\n"
   ]
  },
  {
   "cell_type": "code",
   "execution_count": 14,
   "metadata": {},
   "outputs": [],
   "source": [
    "earlystop = EarlyStopping(monitor='val_acc',\n",
    "                          patience=25,\n",
    "                          verbose=1)"
   ]
  },
  {
   "cell_type": "code",
   "execution_count": 15,
   "metadata": {},
   "outputs": [
    {
     "name": "stdout",
     "output_type": "stream",
     "text": [
      "Model: \"model_3\"\n",
      "_________________________________________________________________\n",
      "Layer (type)                 Output Shape              Param #   \n",
      "=================================================================\n",
      "input_4 (InputLayer)         (None, 3072)              0         \n",
      "_________________________________________________________________\n",
      "hidden_layer1 (Dense)        (None, 512)               1573376   \n",
      "_________________________________________________________________\n",
      "batch_normalization_7 (Batch (None, 512)               2048      \n",
      "_________________________________________________________________\n",
      "hidden_layer2 (Dense)        (None, 256)               131328    \n",
      "_________________________________________________________________\n",
      "batch_normalization_8 (Batch (None, 256)               1024      \n",
      "_________________________________________________________________\n",
      "hidden_layer3 (Dense)        (None, 128)               32896     \n",
      "_________________________________________________________________\n",
      "batch_normalization_9 (Batch (None, 128)               512       \n",
      "_________________________________________________________________\n",
      "output (Dense)               (None, 10)                1290      \n",
      "=================================================================\n",
      "Total params: 1,742,474\n",
      "Trainable params: 1,740,682\n",
      "Non-trainable params: 1,792\n",
      "_________________________________________________________________\n",
      "Train on 50000 samples, validate on 10000 samples\n",
      "Epoch 1/50\n",
      "50000/50000 [==============================] - 4s 72us/step - loss: 2.2056 - acc: 0.2710 - val_loss: 2.0723 - val_acc: 0.3093\n",
      "Epoch 2/50\n",
      "50000/50000 [==============================] - 2s 50us/step - loss: 1.7426 - acc: 0.3912 - val_loss: 1.8452 - val_acc: 0.3733\n",
      "Epoch 3/50\n",
      "50000/50000 [==============================] - 2s 49us/step - loss: 1.6169 - acc: 0.4329 - val_loss: 1.7218 - val_acc: 0.4072\n",
      "Epoch 4/50\n",
      "50000/50000 [==============================] - 2s 47us/step - loss: 1.5426 - acc: 0.4587 - val_loss: 1.6461 - val_acc: 0.4266\n",
      "Epoch 5/50\n",
      "50000/50000 [==============================] - 2s 47us/step - loss: 1.4850 - acc: 0.4810 - val_loss: 1.5888 - val_acc: 0.4405\n",
      "Epoch 6/50\n",
      "50000/50000 [==============================] - 2s 47us/step - loss: 1.4393 - acc: 0.4977 - val_loss: 1.5651 - val_acc: 0.4464\n",
      "Epoch 7/50\n",
      "50000/50000 [==============================] - 2s 47us/step - loss: 1.3983 - acc: 0.5127 - val_loss: 1.5525 - val_acc: 0.4550\n",
      "Epoch 8/50\n",
      "50000/50000 [==============================] - 2s 47us/step - loss: 1.3624 - acc: 0.5261 - val_loss: 1.5290 - val_acc: 0.4603\n",
      "Epoch 9/50\n",
      "50000/50000 [==============================] - 2s 47us/step - loss: 1.3289 - acc: 0.5390 - val_loss: 1.5194 - val_acc: 0.4654\n",
      "Epoch 10/50\n",
      "50000/50000 [==============================] - 2s 47us/step - loss: 1.3006 - acc: 0.5487 - val_loss: 1.4972 - val_acc: 0.4654\n",
      "Epoch 11/50\n",
      "50000/50000 [==============================] - 2s 48us/step - loss: 1.2714 - acc: 0.5599 - val_loss: 1.4904 - val_acc: 0.4736\n",
      "Epoch 12/50\n",
      "50000/50000 [==============================] - 2s 47us/step - loss: 1.2432 - acc: 0.5691 - val_loss: 1.4900 - val_acc: 0.4748\n",
      "Epoch 13/50\n",
      "50000/50000 [==============================] - 2s 47us/step - loss: 1.2183 - acc: 0.5778 - val_loss: 1.4799 - val_acc: 0.4772\n",
      "Epoch 14/50\n",
      "50000/50000 [==============================] - 2s 47us/step - loss: 1.1920 - acc: 0.5894 - val_loss: 1.4728 - val_acc: 0.4774\n",
      "Epoch 15/50\n",
      "50000/50000 [==============================] - 2s 47us/step - loss: 1.1684 - acc: 0.5980 - val_loss: 1.4630 - val_acc: 0.4809\n",
      "Epoch 16/50\n",
      "50000/50000 [==============================] - 2s 47us/step - loss: 1.1443 - acc: 0.6068 - val_loss: 1.4558 - val_acc: 0.4866\n",
      "Epoch 17/50\n",
      "50000/50000 [==============================] - 2s 47us/step - loss: 1.1199 - acc: 0.6152 - val_loss: 1.4571 - val_acc: 0.4887\n",
      "Epoch 18/50\n",
      "50000/50000 [==============================] - 2s 47us/step - loss: 1.0973 - acc: 0.6246 - val_loss: 1.4538 - val_acc: 0.4851\n",
      "Epoch 19/50\n",
      "50000/50000 [==============================] - 2s 48us/step - loss: 1.0753 - acc: 0.6333 - val_loss: 1.4509 - val_acc: 0.4878\n",
      "Epoch 20/50\n",
      "50000/50000 [==============================] - 2s 47us/step - loss: 1.0530 - acc: 0.6418 - val_loss: 1.4603 - val_acc: 0.4805\n",
      "Epoch 21/50\n",
      "50000/50000 [==============================] - 2s 47us/step - loss: 1.0319 - acc: 0.6492 - val_loss: 1.4475 - val_acc: 0.4919\n",
      "Epoch 22/50\n",
      "50000/50000 [==============================] - 2s 47us/step - loss: 1.0088 - acc: 0.6596 - val_loss: 1.4427 - val_acc: 0.4989\n",
      "Epoch 23/50\n",
      "50000/50000 [==============================] - 2s 47us/step - loss: 0.9896 - acc: 0.6671 - val_loss: 1.4472 - val_acc: 0.5002\n",
      "Epoch 24/50\n",
      "50000/50000 [==============================] - 2s 49us/step - loss: 0.9667 - acc: 0.6756 - val_loss: 1.4615 - val_acc: 0.4970\n",
      "Epoch 25/50\n",
      "50000/50000 [==============================] - 2s 47us/step - loss: 0.9463 - acc: 0.6837 - val_loss: 1.4617 - val_acc: 0.4934\n",
      "Epoch 26/50\n",
      "50000/50000 [==============================] - 2s 48us/step - loss: 0.9245 - acc: 0.6928 - val_loss: 1.4582 - val_acc: 0.4993\n",
      "Epoch 27/50\n",
      "50000/50000 [==============================] - 2s 47us/step - loss: 0.9055 - acc: 0.6986 - val_loss: 1.4765 - val_acc: 0.4953\n",
      "Epoch 28/50\n",
      "50000/50000 [==============================] - 2s 48us/step - loss: 0.8869 - acc: 0.7066 - val_loss: 1.4696 - val_acc: 0.4978\n",
      "Epoch 29/50\n",
      "50000/50000 [==============================] - 2s 49us/step - loss: 0.8658 - acc: 0.7154 - val_loss: 1.4679 - val_acc: 0.5015\n",
      "Epoch 30/50\n",
      "50000/50000 [==============================] - 2s 47us/step - loss: 0.8467 - acc: 0.7222 - val_loss: 1.4922 - val_acc: 0.4915\n",
      "Epoch 31/50\n",
      "50000/50000 [==============================] - 2s 47us/step - loss: 0.8267 - acc: 0.7306 - val_loss: 1.4873 - val_acc: 0.4945\n",
      "Epoch 32/50\n",
      "50000/50000 [==============================] - 2s 48us/step - loss: 0.8076 - acc: 0.7385 - val_loss: 1.4918 - val_acc: 0.4940\n",
      "Epoch 33/50\n",
      "50000/50000 [==============================] - 2s 48us/step - loss: 0.7874 - acc: 0.7446 - val_loss: 1.4961 - val_acc: 0.4997\n",
      "Epoch 34/50\n",
      "50000/50000 [==============================] - 2s 50us/step - loss: 0.7684 - acc: 0.7531 - val_loss: 1.5055 - val_acc: 0.5034\n",
      "Epoch 35/50\n",
      "50000/50000 [==============================] - 3s 50us/step - loss: 0.7482 - acc: 0.7618 - val_loss: 1.5073 - val_acc: 0.4998\n",
      "Epoch 36/50\n",
      "50000/50000 [==============================] - 2s 49us/step - loss: 0.7302 - acc: 0.7662 - val_loss: 1.5225 - val_acc: 0.4991\n",
      "Epoch 37/50\n",
      "50000/50000 [==============================] - 3s 52us/step - loss: 0.7121 - acc: 0.7748 - val_loss: 1.5269 - val_acc: 0.4991\n",
      "Epoch 38/50\n",
      "50000/50000 [==============================] - 3s 52us/step - loss: 0.6934 - acc: 0.7815 - val_loss: 1.5416 - val_acc: 0.4992\n",
      "Epoch 39/50\n",
      "50000/50000 [==============================] - 3s 51us/step - loss: 0.6743 - acc: 0.7904 - val_loss: 1.5452 - val_acc: 0.5007\n",
      "Epoch 40/50\n",
      "50000/50000 [==============================] - 2s 47us/step - loss: 0.6565 - acc: 0.7970 - val_loss: 1.5660 - val_acc: 0.4952\n",
      "Epoch 41/50\n",
      "50000/50000 [==============================] - 2s 46us/step - loss: 0.6393 - acc: 0.8050 - val_loss: 1.5483 - val_acc: 0.4987\n",
      "Epoch 42/50\n",
      "50000/50000 [==============================] - 2s 47us/step - loss: 0.6205 - acc: 0.8109 - val_loss: 1.5841 - val_acc: 0.4939\n",
      "Epoch 43/50\n",
      "50000/50000 [==============================] - 2s 46us/step - loss: 0.6039 - acc: 0.8194 - val_loss: 1.5897 - val_acc: 0.4944\n",
      "Epoch 44/50\n",
      "50000/50000 [==============================] - 2s 46us/step - loss: 0.5860 - acc: 0.8250 - val_loss: 1.5991 - val_acc: 0.4966\n",
      "Epoch 45/50\n",
      "50000/50000 [==============================] - 2s 46us/step - loss: 0.5686 - acc: 0.8319 - val_loss: 1.6062 - val_acc: 0.4949\n",
      "Epoch 46/50\n",
      "50000/50000 [==============================] - 2s 47us/step - loss: 0.5509 - acc: 0.8398 - val_loss: 1.6260 - val_acc: 0.4971\n",
      "Epoch 47/50\n",
      "50000/50000 [==============================] - 2s 46us/step - loss: 0.5333 - acc: 0.8469 - val_loss: 1.6385 - val_acc: 0.4950\n",
      "Epoch 48/50\n",
      "50000/50000 [==============================] - 2s 46us/step - loss: 0.5159 - acc: 0.8546 - val_loss: 1.6436 - val_acc: 0.4967\n",
      "Epoch 49/50\n",
      "50000/50000 [==============================] - 2s 46us/step - loss: 0.5012 - acc: 0.8595 - val_loss: 1.6636 - val_acc: 0.4935\n"
     ]
    },
    {
     "name": "stdout",
     "output_type": "stream",
     "text": [
      "Epoch 50/50\n",
      "50000/50000 [==============================] - 2s 48us/step - loss: 0.4848 - acc: 0.8659 - val_loss: 1.6740 - val_acc: 0.4973\n"
     ]
    }
   ],
   "source": [
    "from keras.layers import BatchNormalization\n",
    "model = build_mlp(input_shape=x_train.shape[1:])\n",
    "model.summary()\n",
    "optimizer = keras.optimizers.SGD(lr=LEARNING_RATE, nesterov=True, momentum=MOMENTUM)\n",
    "model.compile(loss=\"categorical_crossentropy\", metrics=[\"accuracy\"], optimizer=optimizer)\n",
    "\n",
    "model.fit(x_train, y_train, \n",
    "          epochs=EPOCHS, \n",
    "          batch_size=BATCH_SIZE, \n",
    "          validation_data=(x_test, y_test), \n",
    "          shuffle=True,\n",
    "          callbacks=[earlystop]\n",
    "         )\n",
    "\n",
    "train_loss = model.history.history[\"loss\"]\n",
    "valid_loss = model.history.history[\"val_loss\"]\n",
    "train_acc = model.history.history[\"acc\"]\n",
    "valid_acc = model.history.history[\"val_acc\"]\n"
   ]
  },
  {
   "cell_type": "code",
   "execution_count": 16,
   "metadata": {},
   "outputs": [
    {
     "data": {
      "image/png": "[encoded data removed]",
      "text/plain": [
       "<Figure size 432x288 with 1 Axes>"
      ]
     },
     "metadata": {
      "needs_background": "light"
     },
     "output_type": "display_data"
    },
    {
     "data": {
      "image/png": "[encoded data removed]",
      "text/plain": [
       "<Figure size 432x288 with 1 Axes>"
      ]
     },
     "metadata": {
      "needs_background": "light"
     },
     "output_type": "display_data"
    }
   ],
   "source": [
    "import matplotlib.pyplot as plt\n",
    "%matplotlib inline\n",
    "\"\"\"Code Here\n",
    "將結果繪出\n",
    "\"\"\"\n",
    "plt.plot(range(len(train_loss)), train_loss, label=\"train loss\")\n",
    "plt.plot(range(len(valid_loss)), valid_loss, label=\"valid loss\")\n",
    "plt.legend()\n",
    "plt.title(\"Loss\")\n",
    "plt.show()\n",
    "\n",
    "plt.plot(range(len(train_acc)), train_acc, label=\"train accuracy\")\n",
    "plt.plot(range(len(valid_acc)), valid_acc, label=\"valid accuracy\")\n",
    "plt.legend()\n",
    "plt.title(\"Accuracy\")\n",
    "plt.show()\n"
   ]
  },
  {
   "cell_type": "code",
   "execution_count": null,
   "metadata": {},
   "outputs": [],
   "source": []
  }
 ],
 "metadata": {
  "kernelspec": {
   "display_name": "Python 3",
   "language": "python",
   "name": "python3"
  },
  "language_info": {
   "codemirror_mode": {
    "name": "ipython",
    "version": 3
   },
   "file_extension": ".py",
   "mimetype": "text/x-python",
   "name": "python",
   "nbconvert_exporter": "python",
   "pygments_lexer": "ipython3",
   "version": "3.7.3"
  },
  "toc": {
   "base_numbering": 1,
   "nav_menu": {},
   "number_sections": true,
   "sideBar": true,
   "skip_h1_title": false,
   "title_cell": "Table of Contents",
   "title_sidebar": "Contents",
   "toc_cell": false,
   "toc_position": {},
   "toc_section_display": true,
   "toc_window_display": false
  }
 },
 "nbformat": 4,
 "nbformat_minor": 2
}
