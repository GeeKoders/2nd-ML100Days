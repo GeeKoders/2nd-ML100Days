{
 "cells": [
  {
   "cell_type": "markdown",
   "metadata": {},
   "source": [
    "請找出一個你認為機器學習可以發光發熱的領域並闡述原因?\n",
    "\n"
   ]
  },
  {
   "cell_type": "markdown",
   "metadata": {},
   "source": [
    "銀行是否核發信用卡給客戶，可以根據客戶所提供的資料，例如:年齡、年收入、教育程度、居住地等特徵，人為判斷去核發信用卡，透過機器學習的方式去找出其規律，並且用來預測是否核發信用卡"
   ]
  },
  {
   "cell_type": "markdown",
   "metadata": {},
   "source": [
    "Ans:\n",
    "\n",
    "現今的機器學習/深度學習的模型都有一個特性，通常資料量越大，準確率會越高。各行業中，金融、工業與醫療領域都能夠累積大量的資料，其中尤以醫療領域的資料量會更多，因受限法規，病患的資料醫院都必須保存一定的年限，使得資料累積的質與量都有相當的程度。不管是結構化數據 (報表) 還是非結構化數據 (影像或音訊)，都是機器學習能夠大展身手的領域。"
   ]
  },
  {
   "cell_type": "code",
   "execution_count": null,
   "metadata": {},
   "outputs": [],
   "source": []
  }
 ],
 "metadata": {
  "kernelspec": {
   "display_name": "Python 3",
   "language": "python",
   "name": "python3"
  },
  "language_info": {
   "codemirror_mode": {
    "name": "ipython",
    "version": 3
   },
   "file_extension": ".py",
   "mimetype": "text/x-python",
   "name": "python",
   "nbconvert_exporter": "python",
   "pygments_lexer": "ipython3",
   "version": "3.7.3"
  },
  "toc": {
   "base_numbering": 1,
   "nav_menu": {},
   "number_sections": true,
   "sideBar": true,
   "skip_h1_title": false,
   "title_cell": "Table of Contents",
   "title_sidebar": "Contents",
   "toc_cell": false,
   "toc_position": {},
   "toc_section_display": true,
   "toc_window_display": false
  }
 },
 "nbformat": 4,
 "nbformat_minor": 2
}
