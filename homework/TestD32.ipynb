{
 "cells": [
  {
   "cell_type": "markdown",
   "metadata": {},
   "source": [
    "底下幫同學整理幾間知名企業的 blog 或機器學習網站 (自行搜尋也可)，請挑選一篇文章閱讀並試著回答\n",
    "\n",
    "專案的目標？ (要解決什麼問題）\n",
    "使用的技術是？ (只需知道名稱即可，例如：使用 CNN 卷積神經網路做影像分類)\n",
    "資料來源？\n",
    "\n",
    "1.Predicting Bus Delays with Machine Learning\n",
    "\n",
    "2.neural sequence models\n",
    "\n",
    "3.Google AI blog\n"
   ]
  },
  {
   "cell_type": "markdown",
   "metadata": {},
   "source": [
    "＃參考解答\n",
    "\n",
    "挑選 Google 提出的[語意分割模型 Deeplab V3+] (https://ai.googleblog.com/2018/03/semantic-image-segmentation-with.html)\n",
    "\n",
    "此專案要解決的是影像與意分割的問題\n",
    "使用 CNN 卷機神經網路，具有 Encoder 跟 Decoder 的架構，並加入了 Atrous convolution 來提升 receptive field。\n",
    "在 PASCAL VOC 2012 及 City Space 的 Dataset 中都取得了 state of the art 的成績"
   ]
  },
  {
   "cell_type": "code",
   "execution_count": null,
   "metadata": {},
   "outputs": [],
   "source": []
  }
 ],
 "metadata": {
  "kernelspec": {
   "display_name": "Python 3",
   "language": "python",
   "name": "python3"
  },
  "language_info": {
   "codemirror_mode": {
    "name": "ipython",
    "version": 3
   },
   "file_extension": ".py",
   "mimetype": "text/x-python",
   "name": "python",
   "nbconvert_exporter": "python",
   "pygments_lexer": "ipython3",
   "version": "3.7.3"
  },
  "toc": {
   "base_numbering": 1,
   "nav_menu": {},
   "number_sections": true,
   "sideBar": true,
   "skip_h1_title": false,
   "title_cell": "Table of Contents",
   "title_sidebar": "Contents",
   "toc_cell": false,
   "toc_position": {},
   "toc_section_display": true,
   "toc_window_display": false
  }
 },
 "nbformat": 4,
 "nbformat_minor": 2
}
